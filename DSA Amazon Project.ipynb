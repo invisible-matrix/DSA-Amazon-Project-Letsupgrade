{
 "cells": [
  {
   "cell_type": "markdown",
   "id": "tested-literacy",
   "metadata": {},
   "source": [
    "# DSA Amazon project LetsUpgrade"
   ]
  },
  {
   "cell_type": "code",
   "execution_count": 1,
   "id": "liberal-crazy",
   "metadata": {},
   "outputs": [],
   "source": [
    "import random\n",
    "import string"
   ]
  },
  {
   "cell_type": "code",
   "execution_count": 3,
   "id": "critical-irish",
   "metadata": {},
   "outputs": [
    {
     "data": {
      "text/plain": [
       "'I3Z8Cm'"
      ]
     },
     "execution_count": 3,
     "metadata": {},
     "output_type": "execute_result"
    }
   ],
   "source": [
    "def generate_id():\n",
    "    tokens=list(string.ascii_letters+string.digits)\n",
    "    uid=''\n",
    "    for i in range (6):\n",
    "        uid += random.choice(tokens)\n",
    "    return uid\n",
    "\n",
    "generate_id()"
   ]
  },
  {
   "cell_type": "raw",
   "id": "working-semiconductor",
   "metadata": {},
   "source": [
    "here \n",
    "prime member->0\n",
    "non-prime members ->1\n",
    "input from the user -> id , name , email , "
   ]
  },
  {
   "cell_type": "code",
   "execution_count": 4,
   "id": "scenic-season",
   "metadata": {},
   "outputs": [],
   "source": [
    "class Amazon:\n",
    "    def _init_(self):\n",
    "        self.id = none\n",
    "        self.name = none\n",
    "        self.email = none\n",
    "        self.orders = none\n",
    "        self.isprime = 1\n",
    "        \n",
    "    def get_details(self):\n",
    "        self.id = generate_id()\n",
    "        self.name = input('Enter the name : ')\n",
    "        self.email = input('Enter email address :')\n",
    "        \n",
    "    def buy_prime(self):\n",
    "        self.isprime = 0\n",
    "        \n",
    "    def buy_items(self):\n",
    "        self.orders = [i for i in input('Enter the items : ').split(\",\")]"
   ]
  },
  {
   "cell_type": "code",
   "execution_count": 5,
   "id": "behavioral-empire",
   "metadata": {
    "scrolled": true
   },
   "outputs": [],
   "source": [
    "user_list=[]"
   ]
  },
  {
   "cell_type": "code",
   "execution_count": 6,
   "id": "deluxe-cheat",
   "metadata": {},
   "outputs": [
    {
     "name": "stdout",
     "output_type": "stream",
     "text": [
      "Enter the name : mohan\n",
      "Enter email address :mohan@gmail\n",
      "Want to order? y/n :y\n",
      "Enter the items : lap\n",
      "Do you want to buy prime? y/n :y\n",
      "Want to add more user? y/n : y\n",
      "Enter the name : jon\n",
      "Enter email address :jon@gmail\n",
      "Want to order? y/n :y\n",
      "Enter the items : shirt\n",
      "Do you want to buy prime? y/n :n\n",
      "Want to add more user? y/n : y\n",
      "Enter the name : rob\n",
      "Enter email address :rob@gmail\n",
      "Want to order? y/n :y\n",
      "Enter the items : gel\n",
      "Do you want to buy prime? y/n :y\n",
      "Want to add more user? y/n : y\n",
      "Enter the name : stark\n",
      "Enter email address :stark@gmail\n",
      "Want to order? y/n :y\n",
      "Enter the items : phone\n",
      "Do you want to buy prime? y/n :n\n",
      "Want to add more user? y/n : n\n"
     ]
    }
   ],
   "source": [
    "ch= 'y'\n",
    "while ch == 'y':\n",
    "    \n",
    "    new_user= Amazon()\n",
    "    new_user.get_details()\n",
    "    \n",
    "    op = input(\"Want to order? y/n :\")\n",
    "    if op == 'y':\n",
    "        new_user.buy_items()\n",
    "    \n",
    "    op = input(\"Do you want to buy prime? y/n :\")\n",
    "    if op == 'y':\n",
    "        new_user.buy_prime()\n",
    "    \n",
    "    user_list.append(new_user)\n",
    "        \n",
    "    ch = input(\"Want to add more user? y/n : \")    "
   ]
  },
  {
   "cell_type": "code",
   "execution_count": 7,
   "id": "social-people",
   "metadata": {},
   "outputs": [
    {
     "name": "stdout",
     "output_type": "stream",
     "text": [
      "[<__main__.Amazon object at 0x000001CC4F07B130>, <__main__.Amazon object at 0x000001CC4F01F2B0>, <__main__.Amazon object at 0x000001CC4F0360A0>, <__main__.Amazon object at 0x000001CC4F036220>]\n"
     ]
    }
   ],
   "source": [
    "print(user_list)"
   ]
  },
  {
   "cell_type": "code",
   "execution_count": 8,
   "id": "bright-palmer",
   "metadata": {},
   "outputs": [
    {
     "ename": "AttributeError",
     "evalue": "'Amazon' object has no attribute 'isprimme'",
     "output_type": "error",
     "traceback": [
      "\u001b[1;31m---------------------------------------------------------------------------\u001b[0m",
      "\u001b[1;31mAttributeError\u001b[0m                            Traceback (most recent call last)",
      "\u001b[1;32m<ipython-input-8-fcb89a2254da>\u001b[0m in \u001b[0;36m<module>\u001b[1;34m\u001b[0m\n\u001b[1;32m----> 1\u001b[1;33m \u001b[0muser_list\u001b[0m\u001b[1;33m=\u001b[0m \u001b[0msorted\u001b[0m\u001b[1;33m(\u001b[0m\u001b[0muser_list\u001b[0m\u001b[1;33m,\u001b[0m \u001b[0mkey\u001b[0m\u001b[1;33m=\u001b[0m\u001b[1;32mlambda\u001b[0m \u001b[0muser\u001b[0m\u001b[1;33m:\u001b[0m \u001b[0muser\u001b[0m\u001b[1;33m.\u001b[0m\u001b[0misprimme\u001b[0m\u001b[1;33m)\u001b[0m\u001b[1;33m\u001b[0m\u001b[1;33m\u001b[0m\u001b[0m\n\u001b[0m",
      "\u001b[1;32m<ipython-input-8-fcb89a2254da>\u001b[0m in \u001b[0;36m<lambda>\u001b[1;34m(user)\u001b[0m\n\u001b[1;32m----> 1\u001b[1;33m \u001b[0muser_list\u001b[0m\u001b[1;33m=\u001b[0m \u001b[0msorted\u001b[0m\u001b[1;33m(\u001b[0m\u001b[0muser_list\u001b[0m\u001b[1;33m,\u001b[0m \u001b[0mkey\u001b[0m\u001b[1;33m=\u001b[0m\u001b[1;32mlambda\u001b[0m \u001b[0muser\u001b[0m\u001b[1;33m:\u001b[0m \u001b[0muser\u001b[0m\u001b[1;33m.\u001b[0m\u001b[0misprimme\u001b[0m\u001b[1;33m)\u001b[0m\u001b[1;33m\u001b[0m\u001b[1;33m\u001b[0m\u001b[0m\n\u001b[0m",
      "\u001b[1;31mAttributeError\u001b[0m: 'Amazon' object has no attribute 'isprimme'"
     ]
    }
   ],
   "source": [
    "user_list= sorted(user_list, key=lambda user: user.isprimme)"
   ]
  },
  {
   "cell_type": "code",
   "execution_count": 12,
   "id": "sporting-independence",
   "metadata": {
    "scrolled": true
   },
   "outputs": [
    {
     "name": "stdout",
     "output_type": "stream",
     "text": [
      "mohan ['lap']\n",
      "jon ['shirt']\n",
      "rob ['gel']\n",
      "stark ['phone']\n"
     ]
    }
   ],
   "source": [
    "for i in user_list:\n",
    "    print(i.name,i.orders)\n",
    "    "
   ]
  },
  {
   "cell_type": "code",
   "execution_count": 13,
   "id": "regulation-waste",
   "metadata": {},
   "outputs": [
    {
     "name": "stdout",
     "output_type": "stream",
     "text": [
      "hi mohan,your order has been shipped under prime delivary\n"
     ]
    },
    {
     "ename": "AttributeError",
     "evalue": "'Amazon' object has no attribute 'isprime'",
     "output_type": "error",
     "traceback": [
      "\u001b[1;31m---------------------------------------------------------------------------\u001b[0m",
      "\u001b[1;31mAttributeError\u001b[0m                            Traceback (most recent call last)",
      "\u001b[1;32m<ipython-input-13-94031b7d7fdf>\u001b[0m in \u001b[0;36m<module>\u001b[1;34m\u001b[0m\n\u001b[0;32m      1\u001b[0m \u001b[1;32mfor\u001b[0m \u001b[0mi\u001b[0m \u001b[1;32min\u001b[0m \u001b[0muser_list\u001b[0m\u001b[1;33m:\u001b[0m\u001b[1;33m\u001b[0m\u001b[1;33m\u001b[0m\u001b[0m\n\u001b[1;32m----> 2\u001b[1;33m     \u001b[1;32mif\u001b[0m \u001b[0mi\u001b[0m\u001b[1;33m.\u001b[0m\u001b[0misprime\u001b[0m \u001b[1;33m==\u001b[0m \u001b[1;36m0\u001b[0m\u001b[1;33m:\u001b[0m\u001b[1;33m\u001b[0m\u001b[1;33m\u001b[0m\u001b[0m\n\u001b[0m\u001b[0;32m      3\u001b[0m         \u001b[0mprint\u001b[0m\u001b[1;33m(\u001b[0m\u001b[1;34mf'hi {i.name},your order has been shipped under prime delivary'\u001b[0m\u001b[1;33m)\u001b[0m\u001b[1;33m\u001b[0m\u001b[1;33m\u001b[0m\u001b[0m\n\u001b[0;32m      4\u001b[0m     \u001b[1;32melse\u001b[0m\u001b[1;33m:\u001b[0m\u001b[1;33m\u001b[0m\u001b[1;33m\u001b[0m\u001b[0m\n\u001b[0;32m      5\u001b[0m         \u001b[0mprint\u001b[0m\u001b[1;33m(\u001b[0m\u001b[1;34mf'hi {i.name},your order has been shipped'\u001b[0m\u001b[1;33m)\u001b[0m\u001b[1;33m\u001b[0m\u001b[1;33m\u001b[0m\u001b[0m\n",
      "\u001b[1;31mAttributeError\u001b[0m: 'Amazon' object has no attribute 'isprime'"
     ]
    }
   ],
   "source": [
    "for i in user_list:\n",
    "    if i.isprime == 0:\n",
    "        print(f'hi {i.name},your order has been shipped under prime delivary')\n",
    "    else:\n",
    "        print(f'hi {i.name},your order has been shipped')\n",
    "        "
   ]
  }
 ],
 "metadata": {
  "kernelspec": {
   "display_name": "Python 3",
   "language": "python",
   "name": "python3"
  },
  "language_info": {
   "codemirror_mode": {
    "name": "ipython",
    "version": 3
   },
   "file_extension": ".py",
   "mimetype": "text/x-python",
   "name": "python",
   "nbconvert_exporter": "python",
   "pygments_lexer": "ipython3",
   "version": "3.8.8"
  }
 },
 "nbformat": 4,
 "nbformat_minor": 5
}
